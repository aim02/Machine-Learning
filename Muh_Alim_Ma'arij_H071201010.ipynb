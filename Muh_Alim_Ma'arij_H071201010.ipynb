{
  "nbformat": 4,
  "nbformat_minor": 0,
  "metadata": {
    "colab": {
      "name": "Muh. Alim Ma'arij-H071201010",
      "provenance": [],
      "collapsed_sections": []
    },
    "kernelspec": {
      "name": "python3",
      "display_name": "Python 3"
    },
    "language_info": {
      "name": "python"
    }
  },
  "cells": [
    {
      "cell_type": "markdown",
      "metadata": {
        "id": "LyXoCni5P6MY"
      },
      "source": [
        "Nama: Muh. Alim Ma'arij\n",
        "\n",
        "NIM: H071201010"
      ]
    },
    {
      "cell_type": "markdown",
      "metadata": {
        "id": "1LxnwPIpQeRD"
      },
      "source": [
        "# Setup Awal"
      ]
    },
    {
      "cell_type": "code",
      "metadata": {
        "id": "-3T7jXQpxILD"
      },
      "source": [
        "import pandas as pd\n",
        "import matplotlib.pyplot as mp\n",
        "import seaborn as sb"
      ],
      "execution_count": 1,
      "outputs": []
    },
    {
      "cell_type": "markdown",
      "metadata": {
        "id": "osAg4Uq1RGuP"
      },
      "source": [
        "tahap awal yang dilakukan ialah meng-import library pandas untuk melakukan manipulasi data, dan meng-import library seaborn dan matplotlib untuk dapat menvisualisasikan dataset yang akan kita gunakan. pada umumnya tidak perlu untuk mengimport kedua library ini untuk visualisasi, dapat juga salah satu dari kedua tersebut digunakan. "
      ]
    },
    {
      "cell_type": "markdown",
      "metadata": {
        "id": "4GWzA9ViQkBw"
      },
      "source": [
        "# Memasukkan dataset"
      ]
    },
    {
      "cell_type": "code",
      "metadata": {
        "id": "AnbyYOXdsKpS"
      },
      "source": [
        "data = pd.read_csv(\"/content/drive/MyDrive/Colab Notebooks/football match.csv\")"
      ],
      "execution_count": 10,
      "outputs": []
    },
    {
      "cell_type": "markdown",
      "metadata": {
        "id": "EhgP89MFQo3R"
      },
      "source": [
        "# Memunculkan data"
      ]
    },
    {
      "cell_type": "markdown",
      "metadata": {
        "id": "5o8YlIERR_Zg"
      },
      "source": [
        "variabel data disini berguna untuk \"membaca\" dataset yang akan kita gunakan. dalam kasus kali ini, file dataset yang digunakan berada pada file yang telah diupload dalam google drive , sehingga perlu untuk menaruh _path_ dataset tersebut sehingga dapat ditemukan. "
      ]
    },
    {
      "cell_type": "code",
      "metadata": {
        "colab": {
          "base_uri": "https://localhost:8080/",
          "height": 417
        },
        "id": "pvaeGxMtsfSY",
        "outputId": "cf8c6006-9707-4621-c8c0-818bf5322ada"
      },
      "source": [
        "data"
      ],
      "execution_count": 11,
      "outputs": [
        {
          "output_type": "execute_result",
          "data": {
            "text/html": [
              "<div>\n",
              "<style scoped>\n",
              "    .dataframe tbody tr th:only-of-type {\n",
              "        vertical-align: middle;\n",
              "    }\n",
              "\n",
              "    .dataframe tbody tr th {\n",
              "        vertical-align: top;\n",
              "    }\n",
              "\n",
              "    .dataframe thead th {\n",
              "        text-align: right;\n",
              "    }\n",
              "</style>\n",
              "<table border=\"1\" class=\"dataframe\">\n",
              "  <thead>\n",
              "    <tr style=\"text-align: right;\">\n",
              "      <th></th>\n",
              "      <th>date</th>\n",
              "      <th>home_team</th>\n",
              "      <th>away_team</th>\n",
              "      <th>home_score</th>\n",
              "      <th>away_score</th>\n",
              "      <th>tournament</th>\n",
              "      <th>city</th>\n",
              "      <th>country</th>\n",
              "      <th>neutral</th>\n",
              "    </tr>\n",
              "  </thead>\n",
              "  <tbody>\n",
              "    <tr>\n",
              "      <th>0</th>\n",
              "      <td>1872-11-30</td>\n",
              "      <td>Scotland</td>\n",
              "      <td>England</td>\n",
              "      <td>0</td>\n",
              "      <td>0</td>\n",
              "      <td>Friendly</td>\n",
              "      <td>Glasgow</td>\n",
              "      <td>Scotland</td>\n",
              "      <td>False</td>\n",
              "    </tr>\n",
              "    <tr>\n",
              "      <th>1</th>\n",
              "      <td>1873-03-08</td>\n",
              "      <td>England</td>\n",
              "      <td>Scotland</td>\n",
              "      <td>4</td>\n",
              "      <td>2</td>\n",
              "      <td>Friendly</td>\n",
              "      <td>London</td>\n",
              "      <td>England</td>\n",
              "      <td>False</td>\n",
              "    </tr>\n",
              "    <tr>\n",
              "      <th>2</th>\n",
              "      <td>1874-03-07</td>\n",
              "      <td>Scotland</td>\n",
              "      <td>England</td>\n",
              "      <td>2</td>\n",
              "      <td>1</td>\n",
              "      <td>Friendly</td>\n",
              "      <td>Glasgow</td>\n",
              "      <td>Scotland</td>\n",
              "      <td>False</td>\n",
              "    </tr>\n",
              "    <tr>\n",
              "      <th>3</th>\n",
              "      <td>1875-03-06</td>\n",
              "      <td>England</td>\n",
              "      <td>Scotland</td>\n",
              "      <td>2</td>\n",
              "      <td>2</td>\n",
              "      <td>Friendly</td>\n",
              "      <td>London</td>\n",
              "      <td>England</td>\n",
              "      <td>False</td>\n",
              "    </tr>\n",
              "    <tr>\n",
              "      <th>4</th>\n",
              "      <td>1876-03-04</td>\n",
              "      <td>Scotland</td>\n",
              "      <td>England</td>\n",
              "      <td>3</td>\n",
              "      <td>0</td>\n",
              "      <td>Friendly</td>\n",
              "      <td>Glasgow</td>\n",
              "      <td>Scotland</td>\n",
              "      <td>False</td>\n",
              "    </tr>\n",
              "    <tr>\n",
              "      <th>...</th>\n",
              "      <td>...</td>\n",
              "      <td>...</td>\n",
              "      <td>...</td>\n",
              "      <td>...</td>\n",
              "      <td>...</td>\n",
              "      <td>...</td>\n",
              "      <td>...</td>\n",
              "      <td>...</td>\n",
              "      <td>...</td>\n",
              "    </tr>\n",
              "    <tr>\n",
              "      <th>42478</th>\n",
              "      <td>2021-07-25</td>\n",
              "      <td>Costa Rica</td>\n",
              "      <td>Canada</td>\n",
              "      <td>0</td>\n",
              "      <td>2</td>\n",
              "      <td>Gold Cup</td>\n",
              "      <td>Arlington</td>\n",
              "      <td>United States</td>\n",
              "      <td>True</td>\n",
              "    </tr>\n",
              "    <tr>\n",
              "      <th>42479</th>\n",
              "      <td>2021-07-25</td>\n",
              "      <td>United States</td>\n",
              "      <td>Jamaica</td>\n",
              "      <td>1</td>\n",
              "      <td>0</td>\n",
              "      <td>Gold Cup</td>\n",
              "      <td>Arlington</td>\n",
              "      <td>United States</td>\n",
              "      <td>False</td>\n",
              "    </tr>\n",
              "    <tr>\n",
              "      <th>42480</th>\n",
              "      <td>2021-07-29</td>\n",
              "      <td>Mexico</td>\n",
              "      <td>Canada</td>\n",
              "      <td>2</td>\n",
              "      <td>1</td>\n",
              "      <td>Gold Cup</td>\n",
              "      <td>Houston</td>\n",
              "      <td>United States</td>\n",
              "      <td>True</td>\n",
              "    </tr>\n",
              "    <tr>\n",
              "      <th>42481</th>\n",
              "      <td>2021-07-29</td>\n",
              "      <td>United States</td>\n",
              "      <td>Qatar</td>\n",
              "      <td>1</td>\n",
              "      <td>0</td>\n",
              "      <td>Gold Cup</td>\n",
              "      <td>Austin</td>\n",
              "      <td>United States</td>\n",
              "      <td>False</td>\n",
              "    </tr>\n",
              "    <tr>\n",
              "      <th>42482</th>\n",
              "      <td>2021-08-01</td>\n",
              "      <td>United States</td>\n",
              "      <td>Mexico</td>\n",
              "      <td>1</td>\n",
              "      <td>0</td>\n",
              "      <td>Gold Cup</td>\n",
              "      <td>Las Vegas</td>\n",
              "      <td>United States</td>\n",
              "      <td>False</td>\n",
              "    </tr>\n",
              "  </tbody>\n",
              "</table>\n",
              "<p>42483 rows × 9 columns</p>\n",
              "</div>"
            ],
            "text/plain": [
              "             date      home_team away_team  ...       city        country neutral\n",
              "0      1872-11-30       Scotland   England  ...    Glasgow       Scotland   False\n",
              "1      1873-03-08        England  Scotland  ...     London        England   False\n",
              "2      1874-03-07       Scotland   England  ...    Glasgow       Scotland   False\n",
              "3      1875-03-06        England  Scotland  ...     London        England   False\n",
              "4      1876-03-04       Scotland   England  ...    Glasgow       Scotland   False\n",
              "...           ...            ...       ...  ...        ...            ...     ...\n",
              "42478  2021-07-25     Costa Rica    Canada  ...  Arlington  United States    True\n",
              "42479  2021-07-25  United States   Jamaica  ...  Arlington  United States   False\n",
              "42480  2021-07-29         Mexico    Canada  ...    Houston  United States    True\n",
              "42481  2021-07-29  United States     Qatar  ...     Austin  United States   False\n",
              "42482  2021-08-01  United States    Mexico  ...  Las Vegas  United States   False\n",
              "\n",
              "[42483 rows x 9 columns]"
            ]
          },
          "metadata": {},
          "execution_count": 11
        }
      ]
    },
    {
      "cell_type": "markdown",
      "metadata": {
        "id": "Njy1nSHLwdQj"
      },
      "source": [
        "Dataset ini mencakup 42.483 hasil pertandingan sepak bola internasional mulai dari pertandingan resmi pertama pada tahun 1872 hingga 2021. Pertandingan tersebut berkisar dari Piala Dunia FIFA hingga Piala Liar FIFI hingga pertandingan persahabatan reguler. Pertandingan adalah pertandingan internasional penuh pria dan data tidak termasuk Olimpiade atau pertandingan di mana setidaknya salah satu tim adalah tim B, U-23, atau tim pilihan liga negara tersebut."
      ]
    },
    {
      "cell_type": "markdown",
      "metadata": {
        "id": "gY4EBb7duoxW"
      },
      "source": [
        "Keterangan data:\n",
        "\n",
        "\n",
        "1. date       : tanggal pertandingan\n",
        "2. home_team  : tim tuan rumah\n",
        "3. away_team  : tim tandang\n",
        "4. home_score : skor tim tuan rumah\n",
        "5. away_score : skor tim tandang\n",
        "6. tournament : turnamen\n",
        "7. city       : kota penyelenggara\n",
        "8. country    : negara penyelenggara\n",
        "9. neutral    : menunjukkan apakah pertandingan dimainkan di tempat netral\n",
        "\n"
      ]
    },
    {
      "cell_type": "markdown",
      "metadata": {
        "id": "5I8a4GRQxC-Y"
      },
      "source": [
        "Catatan tentang nama tim dan negara:\n",
        "Untuk tim tuan rumah dan tandang, nama tim saat ini telah digunakan. Misalnya, ketika pada tahun 1882 sebuah tim yang menyebut dirinya Irlandia bermain melawan Inggris, dalam kumpulan data ini disebut Irlandia Utara karena tim Irlandia Utara saat ini adalah penerus dari tim Irlandia tahun 1882. Hal ini dilakukan agar lebih mudah untuk melacak sejarah dan statistik tim.\n",
        "\n",
        "Untuk nama negara, digunakan nama negara pada saat pertandingan. Jadi ketika Ghana bermain di Accra, Gold Coast pada 1950-an, meskipun nama tim tuan rumah dan negara tidak cocok, itu adalah pertandingan kandang untuk Ghana. Hal ini ditunjukkan dengan kolom netral yang menyatakan FALSE untuk pertandingan tersebut, artinya tidak berada di tempat netral."
      ]
    },
    {
      "cell_type": "markdown",
      "metadata": {
        "id": "gjUYJL6Txo1W"
      },
      "source": [
        "Data dikumpulkan dari beberapa sumber namun tidak terbatas pada Wikipedia, rsssf.com dan situs web asosiasi sepak bola individu."
      ]
    },
    {
      "cell_type": "markdown",
      "metadata": {
        "id": "5RRGmXVcZXig"
      },
      "source": [
        "# Filter Data"
      ]
    },
    {
      "cell_type": "code",
      "metadata": {
        "id": "HjrQbMPLbbix"
      },
      "source": [
        "# filter turnament\n",
        "turnamen = data[\"tournament\"] == \"Gold Cup\"\n",
        "new_data = data[turnamen]"
      ],
      "execution_count": 13,
      "outputs": []
    },
    {
      "cell_type": "code",
      "metadata": {
        "id": "c3rPFQ8LcR7T"
      },
      "source": [
        "# filter negara\n",
        "negara = data[\"country\"] == \"England\"\n",
        "new_data2 = data[negara]"
      ],
      "execution_count": 42,
      "outputs": []
    },
    {
      "cell_type": "markdown",
      "metadata": {
        "id": "_Bd4HBZsVtb_"
      },
      "source": [
        "# Visualisasi Data"
      ]
    },
    {
      "cell_type": "markdown",
      "metadata": {
        "id": "uyB9MjSfVypG"
      },
      "source": [
        "Dengan library seaborn dan matplotlyb.python, maka visualisasi dataset dapat disesuaikan dengan keinginan kita. "
      ]
    },
    {
      "cell_type": "code",
      "metadata": {
        "colab": {
          "base_uri": "https://localhost:8080/",
          "height": 279
        },
        "id": "pAxb9cHOc2q1",
        "outputId": "a4c3e34e-b4d2-42cc-8190-6b8fb9f3ae78"
      },
      "source": [
        "data.plot()\n",
        "pyplot.xlabel('Pertandingan')\n",
        "pyplot.ylabel('Skor')\n",
        "pyplot.show()"
      ],
      "execution_count": 48,
      "outputs": [
        {
          "output_type": "display_data",
          "data": {
            "image/png": "[encoded data removed]",
            "text/plain": [
              "<Figure size 432x288 with 1 Axes>"
            ]
          },
          "metadata": {
            "needs_background": "light"
          }
        }
      ]
    }
  ]
}
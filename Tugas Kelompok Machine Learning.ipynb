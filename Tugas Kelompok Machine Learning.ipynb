{
 "cells": [
  {
   "cell_type": "code",
   "execution_count": 4,
   "id": "769d939b",
   "metadata": {
    "colab": {
     "base_uri": "https://localhost:8080/",
     "height": 870
    },
    "id": "769d939b",
    "outputId": "5b68e93e-3f52-4d5b-90c8-80fd4664b280"
   },
   "outputs": [
    {
     "data": {
      "text/html": [
       "<div>\n",
       "<style scoped>\n",
       "    .dataframe tbody tr th:only-of-type {\n",
       "        vertical-align: middle;\n",
       "    }\n",
       "\n",
       "    .dataframe tbody tr th {\n",
       "        vertical-align: top;\n",
       "    }\n",
       "\n",
       "    .dataframe thead th {\n",
       "        text-align: right;\n",
       "    }\n",
       "</style>\n",
       "<table border=\"1\" class=\"dataframe\">\n",
       "  <thead>\n",
       "    <tr style=\"text-align: right;\">\n",
       "      <th></th>\n",
       "      <th>rank</th>\n",
       "      <th>release_date</th>\n",
       "      <th>title</th>\n",
       "      <th>url</th>\n",
       "      <th>production_cost</th>\n",
       "      <th>domestic_gross</th>\n",
       "      <th>worldwide_gross</th>\n",
       "      <th>opening_weekend</th>\n",
       "      <th>mpaa</th>\n",
       "      <th>genre</th>\n",
       "      <th>theaters</th>\n",
       "      <th>runtime</th>\n",
       "      <th>year</th>\n",
       "    </tr>\n",
       "  </thead>\n",
       "  <tbody>\n",
       "    <tr>\n",
       "      <th>0</th>\n",
       "      <td>1</td>\n",
       "      <td>2019-04-23</td>\n",
       "      <td>Avengers: Endgame</td>\n",
       "      <td>/movie/Avengers-Endgame-(2019)#tab=summary</td>\n",
       "      <td>400000000</td>\n",
       "      <td>858373000</td>\n",
       "      <td>2797800564</td>\n",
       "      <td>357115007.0</td>\n",
       "      <td>PG-13</td>\n",
       "      <td>Action</td>\n",
       "      <td>4662.0</td>\n",
       "      <td>181.0</td>\n",
       "      <td>2019.0</td>\n",
       "    </tr>\n",
       "    <tr>\n",
       "      <th>1</th>\n",
       "      <td>2</td>\n",
       "      <td>2011-05-20</td>\n",
       "      <td>Pirates of the Caribbean: On Stranger Tides</td>\n",
       "      <td>/movie/Pirates-of-the-Caribbean-On-Stranger-Ti...</td>\n",
       "      <td>379000000</td>\n",
       "      <td>241071802</td>\n",
       "      <td>1045713802</td>\n",
       "      <td>90151958.0</td>\n",
       "      <td>PG-13</td>\n",
       "      <td>Adventure</td>\n",
       "      <td>4164.0</td>\n",
       "      <td>136.0</td>\n",
       "      <td>2011.0</td>\n",
       "    </tr>\n",
       "    <tr>\n",
       "      <th>2</th>\n",
       "      <td>3</td>\n",
       "      <td>2015-04-22</td>\n",
       "      <td>Avengers: Age of Ultron</td>\n",
       "      <td>/movie/Avengers-Age-of-Ultron#tab=summary</td>\n",
       "      <td>365000000</td>\n",
       "      <td>459005868</td>\n",
       "      <td>1395316979</td>\n",
       "      <td>191271109.0</td>\n",
       "      <td>PG-13</td>\n",
       "      <td>Action</td>\n",
       "      <td>4276.0</td>\n",
       "      <td>141.0</td>\n",
       "      <td>2015.0</td>\n",
       "    </tr>\n",
       "    <tr>\n",
       "      <th>3</th>\n",
       "      <td>4</td>\n",
       "      <td>2015-12-16</td>\n",
       "      <td>Star Wars Ep. VII: The Force Awakens</td>\n",
       "      <td>/movie/Star-Wars-Ep-VII-The-Force-Awakens#tab=...</td>\n",
       "      <td>306000000</td>\n",
       "      <td>936662225</td>\n",
       "      <td>2064615817</td>\n",
       "      <td>247966675.0</td>\n",
       "      <td>PG-13</td>\n",
       "      <td>Adventure</td>\n",
       "      <td>4134.0</td>\n",
       "      <td>136.0</td>\n",
       "      <td>2015.0</td>\n",
       "    </tr>\n",
       "    <tr>\n",
       "      <th>4</th>\n",
       "      <td>5</td>\n",
       "      <td>2018-04-25</td>\n",
       "      <td>Avengers: Infinity War</td>\n",
       "      <td>/movie/Avengers-Infinity-War#tab=summary</td>\n",
       "      <td>300000000</td>\n",
       "      <td>678815482</td>\n",
       "      <td>2048359754</td>\n",
       "      <td>257698183.0</td>\n",
       "      <td>PG-13</td>\n",
       "      <td>Action</td>\n",
       "      <td>4474.0</td>\n",
       "      <td>156.0</td>\n",
       "      <td>2018.0</td>\n",
       "    </tr>\n",
       "    <tr>\n",
       "      <th>...</th>\n",
       "      <td>...</td>\n",
       "      <td>...</td>\n",
       "      <td>...</td>\n",
       "      <td>...</td>\n",
       "      <td>...</td>\n",
       "      <td>...</td>\n",
       "      <td>...</td>\n",
       "      <td>...</td>\n",
       "      <td>...</td>\n",
       "      <td>...</td>\n",
       "      <td>...</td>\n",
       "      <td>...</td>\n",
       "      <td>...</td>\n",
       "    </tr>\n",
       "    <tr>\n",
       "      <th>495</th>\n",
       "      <td>496</td>\n",
       "      <td>2013-02-06</td>\n",
       "      <td>A Good Day to Die Hard</td>\n",
       "      <td>/movie/Die-Hard-5#tab=summary</td>\n",
       "      <td>92000000</td>\n",
       "      <td>67349198</td>\n",
       "      <td>304249198</td>\n",
       "      <td>24834845.0</td>\n",
       "      <td>R</td>\n",
       "      <td>Action</td>\n",
       "      <td>3555.0</td>\n",
       "      <td>98.0</td>\n",
       "      <td>2013.0</td>\n",
       "    </tr>\n",
       "    <tr>\n",
       "      <th>496</th>\n",
       "      <td>497</td>\n",
       "      <td>2004-04-09</td>\n",
       "      <td>The Alamo</td>\n",
       "      <td>/movie/Alamo-The-(2004)#tab=summary</td>\n",
       "      <td>92000000</td>\n",
       "      <td>22406362</td>\n",
       "      <td>23911362</td>\n",
       "      <td>9124701.0</td>\n",
       "      <td>PG-13</td>\n",
       "      <td>Western</td>\n",
       "      <td>2609.0</td>\n",
       "      <td>137.0</td>\n",
       "      <td>2004.0</td>\n",
       "    </tr>\n",
       "    <tr>\n",
       "      <th>497</th>\n",
       "      <td>498</td>\n",
       "      <td>1995-12-22</td>\n",
       "      <td>Cutthroat Island</td>\n",
       "      <td>/movie/Cutthroat-Island#tab=summary</td>\n",
       "      <td>92000000</td>\n",
       "      <td>10017322</td>\n",
       "      <td>18517322</td>\n",
       "      <td>2371415.0</td>\n",
       "      <td>PG-13</td>\n",
       "      <td>Adventure</td>\n",
       "      <td>1619.0</td>\n",
       "      <td>NaN</td>\n",
       "      <td>1995.0</td>\n",
       "    </tr>\n",
       "    <tr>\n",
       "      <th>498</th>\n",
       "      <td>499</td>\n",
       "      <td>2013-12-19</td>\n",
       "      <td>The Secret Life of Walter Mitty</td>\n",
       "      <td>/movie/Secret-Life-of-Walter-Mitty-The-(2012)#...</td>\n",
       "      <td>91000000</td>\n",
       "      <td>58236838</td>\n",
       "      <td>187861183</td>\n",
       "      <td>12765508.0</td>\n",
       "      <td>PG</td>\n",
       "      <td>Adventure</td>\n",
       "      <td>2922.0</td>\n",
       "      <td>114.0</td>\n",
       "      <td>2013.0</td>\n",
       "    </tr>\n",
       "    <tr>\n",
       "      <th>499</th>\n",
       "      <td>500</td>\n",
       "      <td>2023-03-09</td>\n",
       "      <td>65</td>\n",
       "      <td>/movie/65-(2022)#tab=summary</td>\n",
       "      <td>91000000</td>\n",
       "      <td>0</td>\n",
       "      <td>0</td>\n",
       "      <td>NaN</td>\n",
       "      <td>NaN</td>\n",
       "      <td>Thriller/Suspense</td>\n",
       "      <td>NaN</td>\n",
       "      <td>NaN</td>\n",
       "      <td>2023.0</td>\n",
       "    </tr>\n",
       "  </tbody>\n",
       "</table>\n",
       "<p>500 rows × 13 columns</p>\n",
       "</div>"
      ],
      "text/plain": [
       "     rank release_date                                        title  \\\n",
       "0       1   2019-04-23                            Avengers: Endgame   \n",
       "1       2   2011-05-20  Pirates of the Caribbean: On Stranger Tides   \n",
       "2       3   2015-04-22                      Avengers: Age of Ultron   \n",
       "3       4   2015-12-16         Star Wars Ep. VII: The Force Awakens   \n",
       "4       5   2018-04-25                       Avengers: Infinity War   \n",
       "..    ...          ...                                          ...   \n",
       "495   496   2013-02-06                       A Good Day to Die Hard   \n",
       "496   497   2004-04-09                                    The Alamo   \n",
       "497   498   1995-12-22                             Cutthroat Island   \n",
       "498   499   2013-12-19              The Secret Life of Walter Mitty   \n",
       "499   500   2023-03-09                                           65   \n",
       "\n",
       "                                                   url  production_cost  \\\n",
       "0           /movie/Avengers-Endgame-(2019)#tab=summary        400000000   \n",
       "1    /movie/Pirates-of-the-Caribbean-On-Stranger-Ti...        379000000   \n",
       "2            /movie/Avengers-Age-of-Ultron#tab=summary        365000000   \n",
       "3    /movie/Star-Wars-Ep-VII-The-Force-Awakens#tab=...        306000000   \n",
       "4             /movie/Avengers-Infinity-War#tab=summary        300000000   \n",
       "..                                                 ...              ...   \n",
       "495                      /movie/Die-Hard-5#tab=summary         92000000   \n",
       "496                /movie/Alamo-The-(2004)#tab=summary         92000000   \n",
       "497                /movie/Cutthroat-Island#tab=summary         92000000   \n",
       "498  /movie/Secret-Life-of-Walter-Mitty-The-(2012)#...         91000000   \n",
       "499                       /movie/65-(2022)#tab=summary         91000000   \n",
       "\n",
       "     domestic_gross  worldwide_gross  opening_weekend   mpaa  \\\n",
       "0         858373000       2797800564      357115007.0  PG-13   \n",
       "1         241071802       1045713802       90151958.0  PG-13   \n",
       "2         459005868       1395316979      191271109.0  PG-13   \n",
       "3         936662225       2064615817      247966675.0  PG-13   \n",
       "4         678815482       2048359754      257698183.0  PG-13   \n",
       "..              ...              ...              ...    ...   \n",
       "495        67349198        304249198       24834845.0      R   \n",
       "496        22406362         23911362        9124701.0  PG-13   \n",
       "497        10017322         18517322        2371415.0  PG-13   \n",
       "498        58236838        187861183       12765508.0     PG   \n",
       "499               0                0              NaN    NaN   \n",
       "\n",
       "                 genre  theaters  runtime    year  \n",
       "0               Action    4662.0    181.0  2019.0  \n",
       "1            Adventure    4164.0    136.0  2011.0  \n",
       "2               Action    4276.0    141.0  2015.0  \n",
       "3            Adventure    4134.0    136.0  2015.0  \n",
       "4               Action    4474.0    156.0  2018.0  \n",
       "..                 ...       ...      ...     ...  \n",
       "495             Action    3555.0     98.0  2013.0  \n",
       "496            Western    2609.0    137.0  2004.0  \n",
       "497          Adventure    1619.0      NaN  1995.0  \n",
       "498          Adventure    2922.0    114.0  2013.0  \n",
       "499  Thriller/Suspense       NaN      NaN  2023.0  \n",
       "\n",
       "[500 rows x 13 columns]"
      ]
     },
     "execution_count": 4,
     "metadata": {},
     "output_type": "execute_result"
    }
   ],
   "source": [
    "import pandas as pd\n",
    "\n",
    "df = pd.read_csv('top-500-movies.csv')\n",
    "df"
   ]
  },
  {
   "cell_type": "code",
   "execution_count": 5,
   "id": "colXdzLkQoT9",
   "metadata": {
    "colab": {
     "base_uri": "https://localhost:8080/",
     "height": 344
    },
    "id": "colXdzLkQoT9",
    "outputId": "4673703d-bb0b-4c49-d3f7-057277098beb"
   },
   "outputs": [
    {
     "data": {
      "text/html": [
       "<div>\n",
       "<style scoped>\n",
       "    .dataframe tbody tr th:only-of-type {\n",
       "        vertical-align: middle;\n",
       "    }\n",
       "\n",
       "    .dataframe tbody tr th {\n",
       "        vertical-align: top;\n",
       "    }\n",
       "\n",
       "    .dataframe thead th {\n",
       "        text-align: right;\n",
       "    }\n",
       "</style>\n",
       "<table border=\"1\" class=\"dataframe\">\n",
       "  <thead>\n",
       "    <tr style=\"text-align: right;\">\n",
       "      <th></th>\n",
       "      <th>rank</th>\n",
       "      <th>production_cost</th>\n",
       "      <th>domestic_gross</th>\n",
       "      <th>worldwide_gross</th>\n",
       "      <th>opening_weekend</th>\n",
       "      <th>theaters</th>\n",
       "      <th>runtime</th>\n",
       "      <th>year</th>\n",
       "    </tr>\n",
       "  </thead>\n",
       "  <tbody>\n",
       "    <tr>\n",
       "      <th>count</th>\n",
       "      <td>500.000000</td>\n",
       "      <td>5.000000e+02</td>\n",
       "      <td>5.000000e+02</td>\n",
       "      <td>5.000000e+02</td>\n",
       "      <td>4.790000e+02</td>\n",
       "      <td>479.000000</td>\n",
       "      <td>487.000000</td>\n",
       "      <td>499.000000</td>\n",
       "    </tr>\n",
       "    <tr>\n",
       "      <th>mean</th>\n",
       "      <td>250.500000</td>\n",
       "      <td>1.494954e+08</td>\n",
       "      <td>1.696114e+08</td>\n",
       "      <td>4.697776e+08</td>\n",
       "      <td>5.429206e+07</td>\n",
       "      <td>3659.770355</td>\n",
       "      <td>121.885010</td>\n",
       "      <td>2011.394790</td>\n",
       "    </tr>\n",
       "    <tr>\n",
       "      <th>std</th>\n",
       "      <td>144.481833</td>\n",
       "      <td>4.774040e+07</td>\n",
       "      <td>1.421642e+08</td>\n",
       "      <td>3.850620e+08</td>\n",
       "      <td>4.619796e+07</td>\n",
       "      <td>546.018902</td>\n",
       "      <td>22.399642</td>\n",
       "      <td>6.560688</td>\n",
       "    </tr>\n",
       "    <tr>\n",
       "      <th>min</th>\n",
       "      <td>1.000000</td>\n",
       "      <td>9.100000e+07</td>\n",
       "      <td>0.000000e+00</td>\n",
       "      <td>0.000000e+00</td>\n",
       "      <td>4.855800e+04</td>\n",
       "      <td>30.000000</td>\n",
       "      <td>76.000000</td>\n",
       "      <td>1991.000000</td>\n",
       "    </tr>\n",
       "    <tr>\n",
       "      <th>25%</th>\n",
       "      <td>125.750000</td>\n",
       "      <td>1.100000e+08</td>\n",
       "      <td>7.047110e+07</td>\n",
       "      <td>2.122188e+08</td>\n",
       "      <td>2.421873e+07</td>\n",
       "      <td>3378.500000</td>\n",
       "      <td>104.500000</td>\n",
       "      <td>2007.000000</td>\n",
       "    </tr>\n",
       "    <tr>\n",
       "      <th>50%</th>\n",
       "      <td>250.500000</td>\n",
       "      <td>1.400000e+08</td>\n",
       "      <td>1.318470e+08</td>\n",
       "      <td>3.671458e+08</td>\n",
       "      <td>4.167120e+07</td>\n",
       "      <td>3735.000000</td>\n",
       "      <td>120.000000</td>\n",
       "      <td>2012.000000</td>\n",
       "    </tr>\n",
       "    <tr>\n",
       "      <th>75%</th>\n",
       "      <td>375.250000</td>\n",
       "      <td>1.750000e+08</td>\n",
       "      <td>2.185998e+08</td>\n",
       "      <td>6.484251e+08</td>\n",
       "      <td>6.812391e+07</td>\n",
       "      <td>4065.000000</td>\n",
       "      <td>135.000000</td>\n",
       "      <td>2016.000000</td>\n",
       "    </tr>\n",
       "    <tr>\n",
       "      <th>max</th>\n",
       "      <td>500.000000</td>\n",
       "      <td>4.000000e+08</td>\n",
       "      <td>9.366622e+08</td>\n",
       "      <td>2.910371e+09</td>\n",
       "      <td>3.571150e+08</td>\n",
       "      <td>4802.000000</td>\n",
       "      <td>210.000000</td>\n",
       "      <td>2023.000000</td>\n",
       "    </tr>\n",
       "  </tbody>\n",
       "</table>\n",
       "</div>"
      ],
      "text/plain": [
       "             rank  production_cost  domestic_gross  worldwide_gross  \\\n",
       "count  500.000000     5.000000e+02    5.000000e+02     5.000000e+02   \n",
       "mean   250.500000     1.494954e+08    1.696114e+08     4.697776e+08   \n",
       "std    144.481833     4.774040e+07    1.421642e+08     3.850620e+08   \n",
       "min      1.000000     9.100000e+07    0.000000e+00     0.000000e+00   \n",
       "25%    125.750000     1.100000e+08    7.047110e+07     2.122188e+08   \n",
       "50%    250.500000     1.400000e+08    1.318470e+08     3.671458e+08   \n",
       "75%    375.250000     1.750000e+08    2.185998e+08     6.484251e+08   \n",
       "max    500.000000     4.000000e+08    9.366622e+08     2.910371e+09   \n",
       "\n",
       "       opening_weekend     theaters     runtime         year  \n",
       "count     4.790000e+02   479.000000  487.000000   499.000000  \n",
       "mean      5.429206e+07  3659.770355  121.885010  2011.394790  \n",
       "std       4.619796e+07   546.018902   22.399642     6.560688  \n",
       "min       4.855800e+04    30.000000   76.000000  1991.000000  \n",
       "25%       2.421873e+07  3378.500000  104.500000  2007.000000  \n",
       "50%       4.167120e+07  3735.000000  120.000000  2012.000000  \n",
       "75%       6.812391e+07  4065.000000  135.000000  2016.000000  \n",
       "max       3.571150e+08  4802.000000  210.000000  2023.000000  "
      ]
     },
     "execution_count": 5,
     "metadata": {},
     "output_type": "execute_result"
    }
   ],
   "source": [
    "df.describe()"
   ]
  },
  {
   "cell_type": "code",
   "execution_count": 6,
   "id": "dd9bfa95",
   "metadata": {
    "colab": {
     "base_uri": "https://localhost:8080/",
     "height": 424
    },
    "id": "dd9bfa95",
    "outputId": "ecdd3c9d-236d-4aa8-f1b2-eed6d1eb63b7"
   },
   "outputs": [
    {
     "data": {
      "text/html": [
       "<div>\n",
       "<style scoped>\n",
       "    .dataframe tbody tr th:only-of-type {\n",
       "        vertical-align: middle;\n",
       "    }\n",
       "\n",
       "    .dataframe tbody tr th {\n",
       "        vertical-align: top;\n",
       "    }\n",
       "\n",
       "    .dataframe thead th {\n",
       "        text-align: right;\n",
       "    }\n",
       "</style>\n",
       "<table border=\"1\" class=\"dataframe\">\n",
       "  <thead>\n",
       "    <tr style=\"text-align: right;\">\n",
       "      <th></th>\n",
       "      <th>rank</th>\n",
       "      <th>production_cost</th>\n",
       "      <th>domestic_gross</th>\n",
       "      <th>worldwide_gross</th>\n",
       "      <th>opening_weekend</th>\n",
       "      <th>theaters</th>\n",
       "      <th>runtime</th>\n",
       "    </tr>\n",
       "  </thead>\n",
       "  <tbody>\n",
       "    <tr>\n",
       "      <th>0</th>\n",
       "      <td>1</td>\n",
       "      <td>400000000</td>\n",
       "      <td>858373000</td>\n",
       "      <td>2797800564</td>\n",
       "      <td>357115007.0</td>\n",
       "      <td>4662.0</td>\n",
       "      <td>181.0</td>\n",
       "    </tr>\n",
       "    <tr>\n",
       "      <th>1</th>\n",
       "      <td>2</td>\n",
       "      <td>379000000</td>\n",
       "      <td>241071802</td>\n",
       "      <td>1045713802</td>\n",
       "      <td>90151958.0</td>\n",
       "      <td>4164.0</td>\n",
       "      <td>136.0</td>\n",
       "    </tr>\n",
       "    <tr>\n",
       "      <th>2</th>\n",
       "      <td>3</td>\n",
       "      <td>365000000</td>\n",
       "      <td>459005868</td>\n",
       "      <td>1395316979</td>\n",
       "      <td>191271109.0</td>\n",
       "      <td>4276.0</td>\n",
       "      <td>141.0</td>\n",
       "    </tr>\n",
       "    <tr>\n",
       "      <th>3</th>\n",
       "      <td>4</td>\n",
       "      <td>306000000</td>\n",
       "      <td>936662225</td>\n",
       "      <td>2064615817</td>\n",
       "      <td>247966675.0</td>\n",
       "      <td>4134.0</td>\n",
       "      <td>136.0</td>\n",
       "    </tr>\n",
       "    <tr>\n",
       "      <th>4</th>\n",
       "      <td>5</td>\n",
       "      <td>300000000</td>\n",
       "      <td>678815482</td>\n",
       "      <td>2048359754</td>\n",
       "      <td>257698183.0</td>\n",
       "      <td>4474.0</td>\n",
       "      <td>156.0</td>\n",
       "    </tr>\n",
       "    <tr>\n",
       "      <th>...</th>\n",
       "      <td>...</td>\n",
       "      <td>...</td>\n",
       "      <td>...</td>\n",
       "      <td>...</td>\n",
       "      <td>...</td>\n",
       "      <td>...</td>\n",
       "      <td>...</td>\n",
       "    </tr>\n",
       "    <tr>\n",
       "      <th>495</th>\n",
       "      <td>496</td>\n",
       "      <td>92000000</td>\n",
       "      <td>67349198</td>\n",
       "      <td>304249198</td>\n",
       "      <td>24834845.0</td>\n",
       "      <td>3555.0</td>\n",
       "      <td>98.0</td>\n",
       "    </tr>\n",
       "    <tr>\n",
       "      <th>496</th>\n",
       "      <td>497</td>\n",
       "      <td>92000000</td>\n",
       "      <td>22406362</td>\n",
       "      <td>23911362</td>\n",
       "      <td>9124701.0</td>\n",
       "      <td>2609.0</td>\n",
       "      <td>137.0</td>\n",
       "    </tr>\n",
       "    <tr>\n",
       "      <th>497</th>\n",
       "      <td>498</td>\n",
       "      <td>92000000</td>\n",
       "      <td>10017322</td>\n",
       "      <td>18517322</td>\n",
       "      <td>2371415.0</td>\n",
       "      <td>1619.0</td>\n",
       "      <td>NaN</td>\n",
       "    </tr>\n",
       "    <tr>\n",
       "      <th>498</th>\n",
       "      <td>499</td>\n",
       "      <td>91000000</td>\n",
       "      <td>58236838</td>\n",
       "      <td>187861183</td>\n",
       "      <td>12765508.0</td>\n",
       "      <td>2922.0</td>\n",
       "      <td>114.0</td>\n",
       "    </tr>\n",
       "    <tr>\n",
       "      <th>499</th>\n",
       "      <td>500</td>\n",
       "      <td>91000000</td>\n",
       "      <td>0</td>\n",
       "      <td>0</td>\n",
       "      <td>NaN</td>\n",
       "      <td>NaN</td>\n",
       "      <td>NaN</td>\n",
       "    </tr>\n",
       "  </tbody>\n",
       "</table>\n",
       "<p>500 rows × 7 columns</p>\n",
       "</div>"
      ],
      "text/plain": [
       "     rank  production_cost  domestic_gross  worldwide_gross  opening_weekend  \\\n",
       "0       1        400000000       858373000       2797800564      357115007.0   \n",
       "1       2        379000000       241071802       1045713802       90151958.0   \n",
       "2       3        365000000       459005868       1395316979      191271109.0   \n",
       "3       4        306000000       936662225       2064615817      247966675.0   \n",
       "4       5        300000000       678815482       2048359754      257698183.0   \n",
       "..    ...              ...             ...              ...              ...   \n",
       "495   496         92000000        67349198        304249198       24834845.0   \n",
       "496   497         92000000        22406362         23911362        9124701.0   \n",
       "497   498         92000000        10017322         18517322        2371415.0   \n",
       "498   499         91000000        58236838        187861183       12765508.0   \n",
       "499   500         91000000               0                0              NaN   \n",
       "\n",
       "     theaters  runtime  \n",
       "0      4662.0    181.0  \n",
       "1      4164.0    136.0  \n",
       "2      4276.0    141.0  \n",
       "3      4134.0    136.0  \n",
       "4      4474.0    156.0  \n",
       "..        ...      ...  \n",
       "495    3555.0     98.0  \n",
       "496    2609.0    137.0  \n",
       "497    1619.0      NaN  \n",
       "498    2922.0    114.0  \n",
       "499       NaN      NaN  \n",
       "\n",
       "[500 rows x 7 columns]"
      ]
     },
     "execution_count": 6,
     "metadata": {},
     "output_type": "execute_result"
    }
   ],
   "source": [
    "df1 = df.drop(['release_date','title','url','mpaa','genre','year'],axis=1)\n",
    "df1"
   ]
  },
  {
   "cell_type": "code",
   "execution_count": 7,
   "id": "e4546cef",
   "metadata": {
    "colab": {
     "base_uri": "https://localhost:8080/"
    },
    "id": "e4546cef",
    "outputId": "a5065d2d-2e41-4765-d27e-1f34297267a0"
   },
   "outputs": [
    {
     "data": {
      "text/plain": [
       "rank                0\n",
       "production_cost     0\n",
       "domestic_gross      0\n",
       "worldwide_gross     0\n",
       "opening_weekend    21\n",
       "theaters           21\n",
       "runtime            13\n",
       "dtype: int64"
      ]
     },
     "execution_count": 7,
     "metadata": {},
     "output_type": "execute_result"
    }
   ],
   "source": [
    "df1.isnull().sum()"
   ]
  },
  {
   "cell_type": "code",
   "execution_count": 8,
   "id": "655e9229",
   "metadata": {
    "colab": {
     "base_uri": "https://localhost:8080/",
     "height": 424
    },
    "id": "655e9229",
    "outputId": "91a386f1-e7e0-4319-8258-0ca909cb6ac1"
   },
   "outputs": [
    {
     "data": {
      "text/html": [
       "<div>\n",
       "<style scoped>\n",
       "    .dataframe tbody tr th:only-of-type {\n",
       "        vertical-align: middle;\n",
       "    }\n",
       "\n",
       "    .dataframe tbody tr th {\n",
       "        vertical-align: top;\n",
       "    }\n",
       "\n",
       "    .dataframe thead th {\n",
       "        text-align: right;\n",
       "    }\n",
       "</style>\n",
       "<table border=\"1\" class=\"dataframe\">\n",
       "  <thead>\n",
       "    <tr style=\"text-align: right;\">\n",
       "      <th></th>\n",
       "      <th>production_cost</th>\n",
       "      <th>worldwide_gross</th>\n",
       "    </tr>\n",
       "  </thead>\n",
       "  <tbody>\n",
       "    <tr>\n",
       "      <th>0</th>\n",
       "      <td>400000000</td>\n",
       "      <td>2797800564</td>\n",
       "    </tr>\n",
       "    <tr>\n",
       "      <th>1</th>\n",
       "      <td>379000000</td>\n",
       "      <td>1045713802</td>\n",
       "    </tr>\n",
       "    <tr>\n",
       "      <th>2</th>\n",
       "      <td>365000000</td>\n",
       "      <td>1395316979</td>\n",
       "    </tr>\n",
       "    <tr>\n",
       "      <th>3</th>\n",
       "      <td>306000000</td>\n",
       "      <td>2064615817</td>\n",
       "    </tr>\n",
       "    <tr>\n",
       "      <th>4</th>\n",
       "      <td>300000000</td>\n",
       "      <td>2048359754</td>\n",
       "    </tr>\n",
       "    <tr>\n",
       "      <th>...</th>\n",
       "      <td>...</td>\n",
       "      <td>...</td>\n",
       "    </tr>\n",
       "    <tr>\n",
       "      <th>495</th>\n",
       "      <td>92000000</td>\n",
       "      <td>304249198</td>\n",
       "    </tr>\n",
       "    <tr>\n",
       "      <th>496</th>\n",
       "      <td>92000000</td>\n",
       "      <td>23911362</td>\n",
       "    </tr>\n",
       "    <tr>\n",
       "      <th>497</th>\n",
       "      <td>92000000</td>\n",
       "      <td>18517322</td>\n",
       "    </tr>\n",
       "    <tr>\n",
       "      <th>498</th>\n",
       "      <td>91000000</td>\n",
       "      <td>187861183</td>\n",
       "    </tr>\n",
       "    <tr>\n",
       "      <th>499</th>\n",
       "      <td>91000000</td>\n",
       "      <td>0</td>\n",
       "    </tr>\n",
       "  </tbody>\n",
       "</table>\n",
       "<p>500 rows × 2 columns</p>\n",
       "</div>"
      ],
      "text/plain": [
       "     production_cost  worldwide_gross\n",
       "0          400000000       2797800564\n",
       "1          379000000       1045713802\n",
       "2          365000000       1395316979\n",
       "3          306000000       2064615817\n",
       "4          300000000       2048359754\n",
       "..               ...              ...\n",
       "495         92000000        304249198\n",
       "496         92000000         23911362\n",
       "497         92000000         18517322\n",
       "498         91000000        187861183\n",
       "499         91000000                0\n",
       "\n",
       "[500 rows x 2 columns]"
      ]
     },
     "execution_count": 8,
     "metadata": {},
     "output_type": "execute_result"
    }
   ],
   "source": [
    "df1 = df1.drop(['opening_weekend', 'theaters', 'runtime', 'rank', 'domestic_gross'],axis=1)\n",
    "df1"
   ]
  },
  {
   "cell_type": "code",
   "execution_count": 9,
   "id": "H3k2Z5VzYo12",
   "metadata": {
    "colab": {
     "base_uri": "https://localhost:8080/"
    },
    "id": "H3k2Z5VzYo12",
    "outputId": "c7522420-195e-4b7f-d7ff-056ecc225087"
   },
   "outputs": [
    {
     "name": "stdout",
     "output_type": "stream",
     "text": [
      "<class 'pandas.core.frame.DataFrame'>\n",
      "RangeIndex: 500 entries, 0 to 499\n",
      "Data columns (total 2 columns):\n",
      " #   Column           Non-Null Count  Dtype\n",
      "---  ------           --------------  -----\n",
      " 0   production_cost  500 non-null    int64\n",
      " 1   worldwide_gross  500 non-null    int64\n",
      "dtypes: int64(2)\n",
      "memory usage: 7.9 KB\n"
     ]
    }
   ],
   "source": [
    "df1.info()"
   ]
  },
  {
   "cell_type": "code",
   "execution_count": 10,
   "id": "d3e0b734",
   "metadata": {
    "colab": {
     "base_uri": "https://localhost:8080/",
     "height": 300
    },
    "id": "d3e0b734",
    "outputId": "a7bf402b-64b4-4896-fe5d-f320ce170f76"
   },
   "outputs": [
    {
     "data": {
      "text/html": [
       "<div>\n",
       "<style scoped>\n",
       "    .dataframe tbody tr th:only-of-type {\n",
       "        vertical-align: middle;\n",
       "    }\n",
       "\n",
       "    .dataframe tbody tr th {\n",
       "        vertical-align: top;\n",
       "    }\n",
       "\n",
       "    .dataframe thead th {\n",
       "        text-align: right;\n",
       "    }\n",
       "</style>\n",
       "<table border=\"1\" class=\"dataframe\">\n",
       "  <thead>\n",
       "    <tr style=\"text-align: right;\">\n",
       "      <th></th>\n",
       "      <th>production_cost</th>\n",
       "      <th>worldwide_gross</th>\n",
       "    </tr>\n",
       "  </thead>\n",
       "  <tbody>\n",
       "    <tr>\n",
       "      <th>count</th>\n",
       "      <td>5.000000e+02</td>\n",
       "      <td>5.000000e+02</td>\n",
       "    </tr>\n",
       "    <tr>\n",
       "      <th>mean</th>\n",
       "      <td>1.494954e+08</td>\n",
       "      <td>4.697776e+08</td>\n",
       "    </tr>\n",
       "    <tr>\n",
       "      <th>std</th>\n",
       "      <td>4.774040e+07</td>\n",
       "      <td>3.850620e+08</td>\n",
       "    </tr>\n",
       "    <tr>\n",
       "      <th>min</th>\n",
       "      <td>9.100000e+07</td>\n",
       "      <td>0.000000e+00</td>\n",
       "    </tr>\n",
       "    <tr>\n",
       "      <th>25%</th>\n",
       "      <td>1.100000e+08</td>\n",
       "      <td>2.122188e+08</td>\n",
       "    </tr>\n",
       "    <tr>\n",
       "      <th>50%</th>\n",
       "      <td>1.400000e+08</td>\n",
       "      <td>3.671458e+08</td>\n",
       "    </tr>\n",
       "    <tr>\n",
       "      <th>75%</th>\n",
       "      <td>1.750000e+08</td>\n",
       "      <td>6.484251e+08</td>\n",
       "    </tr>\n",
       "    <tr>\n",
       "      <th>max</th>\n",
       "      <td>4.000000e+08</td>\n",
       "      <td>2.910371e+09</td>\n",
       "    </tr>\n",
       "  </tbody>\n",
       "</table>\n",
       "</div>"
      ],
      "text/plain": [
       "       production_cost  worldwide_gross\n",
       "count     5.000000e+02     5.000000e+02\n",
       "mean      1.494954e+08     4.697776e+08\n",
       "std       4.774040e+07     3.850620e+08\n",
       "min       9.100000e+07     0.000000e+00\n",
       "25%       1.100000e+08     2.122188e+08\n",
       "50%       1.400000e+08     3.671458e+08\n",
       "75%       1.750000e+08     6.484251e+08\n",
       "max       4.000000e+08     2.910371e+09"
      ]
     },
     "execution_count": 10,
     "metadata": {},
     "output_type": "execute_result"
    }
   ],
   "source": [
    "df1.describe()"
   ]
  },
  {
   "cell_type": "code",
   "execution_count": 11,
   "id": "49cadb34",
   "metadata": {
    "id": "49cadb34"
   },
   "outputs": [],
   "source": [
    "from pandas import DataFrame\n",
    "\n",
    "\n",
    "X = DataFrame(df1, columns=['production_cost'])\n",
    "y = DataFrame(df1, columns=['worldwide_gross'])"
   ]
  },
  {
   "cell_type": "code",
   "execution_count": 12,
   "id": "F3eCbykGUqEU",
   "metadata": {
    "colab": {
     "base_uri": "https://localhost:8080/",
     "height": 404
    },
    "id": "F3eCbykGUqEU",
    "outputId": "c10e0ef8-da89-4ad1-e966-abff82d05f08"
   },
   "outputs": [
    {
     "data": {
      "image/png": "[encoded data removed]",
      "text/plain": [
       "<Figure size 720x432 with 1 Axes>"
      ]
     },
     "metadata": {
      "needs_background": "light"
     },
     "output_type": "display_data"
    }
   ],
   "source": [
    "import matplotlib.pyplot as plt\n",
    "\n",
    "plt.figure(figsize=(10,6))\n",
    "plt.scatter (X, y, alpha=0.3)\n",
    "plt.title('Film Cost vs Global Revenue')\n",
    "plt.xlabel('Production Budget $')\n",
    "plt.ylabel('Gross Percentage $')\n",
    "\n",
    "plt.show()"
   ]
  },
  {
   "cell_type": "markdown",
   "id": "d1aaf121",
   "metadata": {
    "id": "d1aaf121"
   },
   "source": [
    "## Linear Regression"
   ]
  },
  {
   "cell_type": "code",
   "execution_count": 13,
   "id": "F8FhyrjWUpRD",
   "metadata": {
    "colab": {
     "base_uri": "https://localhost:8080/"
    },
    "id": "F8FhyrjWUpRD",
    "outputId": "44490248-635f-4b2e-c372-368ee0790487"
   },
   "outputs": [
    {
     "data": {
      "text/plain": [
       "LinearRegression()"
      ]
     },
     "execution_count": 13,
     "metadata": {},
     "output_type": "execute_result"
    }
   ],
   "source": [
    "# model Linear Regression untuk prediksinya\n",
    "from sklearn.linear_model import LinearRegression\n",
    "\n",
    "lr = LinearRegression()\n",
    "lr.fit(X, y)"
   ]
  },
  {
   "cell_type": "code",
   "execution_count": 24,
   "id": "30e29b4c",
   "metadata": {
    "colab": {
     "base_uri": "https://localhost:8080/"
    },
    "id": "30e29b4c",
    "outputId": "9e5cad24-3949-4030-8778-20fbfb8c9fbe"
   },
   "outputs": [],
   "source": [
    "import sklearn.linear_model as lm\n",
    "import sklearn.model_selection as ms\n",
    "\n",
    "model1 = lm.LinearRegression()\n",
    "X_train, X_test, y_train, y_test = ms.train_test_split(X,y,test_size= 0.2, random_state = 0)\n",
    "model1.fit(X_train,y_train)\n",
    "\n",
    "y_pred = model1.predict(X_test)"
   ]
  },
  {
   "cell_type": "code",
   "execution_count": 25,
   "id": "a553d497",
   "metadata": {},
   "outputs": [
    {
     "name": "stdout",
     "output_type": "stream",
     "text": [
      "Mean Absolute Error: 214475717.13080212\n",
      "Mean Squared Error: 8.559022587377058e+16\n",
      "Root Mean Squared Error: 292558072.6518593\n"
     ]
    }
   ],
   "source": [
    "from sklearn import metrics\n",
    "\n",
    "print('Mean Absolute Error:', metrics.mean_absolute_error(y_test, y_pred))\n",
    "print('Mean Squared Error:', metrics.mean_squared_error(y_test, y_pred))\n",
    "print('Root Mean Squared Error:', np.sqrt(metrics.mean_squared_error(y_test, y_pred)))"
   ]
  },
  {
   "cell_type": "code",
   "execution_count": 15,
   "id": "ae6cc6f1",
   "metadata": {
    "colab": {
     "base_uri": "https://localhost:8080/"
    },
    "id": "ae6cc6f1",
    "outputId": "23d6eb03-4262-41b6-d284-06bb1d9d8a48"
   },
   "outputs": [
    {
     "data": {
      "text/plain": [
       "array([[4.44416302]])"
      ]
     },
     "execution_count": 15,
     "metadata": {},
     "output_type": "execute_result"
    }
   ],
   "source": [
    "model1.coef_"
   ]
  },
  {
   "cell_type": "code",
   "execution_count": 16,
   "id": "6e664ccb",
   "metadata": {
    "colab": {
     "base_uri": "https://localhost:8080/"
    },
    "id": "6e664ccb",
    "outputId": "96494b11-68fe-4eb8-ca2d-6344d9f437d6"
   },
   "outputs": [
    {
     "data": {
      "text/plain": [
       "array([-1.88207337e+08])"
      ]
     },
     "execution_count": 16,
     "metadata": {},
     "output_type": "execute_result"
    }
   ],
   "source": [
    "model1.intercept_"
   ]
  },
  {
   "cell_type": "code",
   "execution_count": 17,
   "id": "378408ad",
   "metadata": {
    "colab": {
     "base_uri": "https://localhost:8080/"
    },
    "id": "378408ad",
    "outputId": "455c95fe-54c2-4615-b89f-fc35d7442683"
   },
   "outputs": [
    {
     "name": "stdout",
     "output_type": "stream",
     "text": [
      "0.26093009615006335\n"
     ]
    }
   ],
   "source": [
    "r2 = model1.score(X_test, y_test)\n",
    "print(r2)"
   ]
  },
  {
   "cell_type": "code",
   "execution_count": 18,
   "id": "0658e305",
   "metadata": {
    "colab": {
     "base_uri": "https://localhost:8080/"
    },
    "id": "0658e305",
    "outputId": "1b580adf-5a90-4455-d734-d35adbd674b8"
   },
   "outputs": [
    {
     "name": "stdout",
     "output_type": "stream",
     "text": [
      "intercept=  [-1.88207337e+08]\n",
      "slope=  [[4.44416302]]\n"
     ]
    }
   ],
   "source": [
    "print('intercept= ', model1.intercept_)\n",
    "print('slope= ', model1.coef_)"
   ]
  },
  {
   "cell_type": "code",
   "execution_count": 28,
   "id": "30e2b0d3",
   "metadata": {
    "colab": {
     "base_uri": "https://localhost:8080/",
     "height": 295
    },
    "id": "30e2b0d3",
    "outputId": "b98982f8-f9b0-4d0c-928d-196aa3f6fcad"
   },
   "outputs": [
    {
     "data": {
      "image/png": "[encoded data removed]",
      "text/plain": [
       "<Figure size 432x288 with 1 Axes>"
      ]
     },
     "metadata": {
      "needs_background": "light"
     },
     "output_type": "display_data"
    }
   ],
   "source": [
    "import numpy as np\n",
    "\n",
    "plt.scatter(X_train, y_train, alpha=0.3)\n",
    "plt.xlabel('Production Cost')\n",
    "plt.ylabel('Worldwide Cost')\n",
    "plt.title('Keuntungan Pembuatan Film')\n",
    "plt.plot(X_test, model1.predict(X_test), color='red', linewidth=3)\n",
    "plt.show()"
   ]
  },
  {
   "cell_type": "markdown",
   "id": "136daad1",
   "metadata": {
    "id": "136daad1"
   },
   "source": [
    "## Random Forest"
   ]
  },
  {
   "cell_type": "code",
   "execution_count": 20,
   "id": "e76821a9",
   "metadata": {
    "colab": {
     "base_uri": "https://localhost:8080/"
    },
    "id": "e76821a9",
    "outputId": "95de3652-a730-464d-ab66-d6869ba15ade"
   },
   "outputs": [
    {
     "name": "stderr",
     "output_type": "stream",
     "text": [
      "C:\\Users\\Aim\\AppData\\Local\\Temp\\ipykernel_25108\\943585756.py:4: DataConversionWarning: A column-vector y was passed when a 1d array was expected. Please change the shape of y to (n_samples,), for example using ravel().\n",
      "  model2.fit(X_train, y_train)\n"
     ]
    },
    {
     "data": {
      "text/plain": [
       "RandomForestRegressor(n_estimators=20, random_state=0)"
      ]
     },
     "execution_count": 20,
     "metadata": {},
     "output_type": "execute_result"
    }
   ],
   "source": [
    "from sklearn.ensemble import RandomForestRegressor\n",
    "\n",
    "model2 = RandomForestRegressor(n_estimators = 20, random_state = 0)\n",
    "model2.fit(X_train, y_train) "
   ]
  },
  {
   "cell_type": "code",
   "execution_count": 21,
   "id": "45870f5c",
   "metadata": {
    "colab": {
     "base_uri": "https://localhost:8080/"
    },
    "id": "45870f5c",
    "outputId": "7e8747eb-5dd4-4d12-ce7a-4b83cf0396f3"
   },
   "outputs": [
    {
     "data": {
      "text/plain": [
       "array([4.80827989e+08, 3.19837836e+08, 4.33836573e+08, 2.09783133e+08,\n",
       "       2.09783133e+08, 1.45390505e+09, 5.86351931e+08, 8.16827191e+08,\n",
       "       6.11181290e+08, 5.25859130e+08, 4.33475327e+08, 3.19837836e+08,\n",
       "       3.13174592e+08, 4.33836573e+08, 7.40263204e+08, 2.54268907e+08,\n",
       "       2.26203723e+08, 3.22495237e+08, 5.25859130e+08, 6.16525753e+08,\n",
       "       4.82211840e+08, 3.13174592e+08, 4.33475327e+08, 4.64752755e+08,\n",
       "       4.56219563e+08, 2.09783133e+08, 9.77653751e+08, 3.13174592e+08,\n",
       "       5.32998401e+08, 4.82211840e+08, 2.09783133e+08, 4.59164221e+08,\n",
       "       5.25715936e+08, 4.82211840e+08, 3.13174592e+08, 5.74067621e+08,\n",
       "       5.86351931e+08, 2.09783133e+08, 3.22495237e+08, 4.33475327e+08,\n",
       "       5.86351931e+08, 6.87802037e+08, 3.20506253e+08, 4.82211840e+08,\n",
       "       6.87802037e+08, 1.73954928e+09, 4.82211840e+08, 5.86351931e+08,\n",
       "       2.09783133e+08, 4.83290253e+08, 3.13174592e+08, 7.40263204e+08,\n",
       "       2.54268907e+08, 5.25859130e+08, 5.25715936e+08, 6.83350014e+08,\n",
       "       5.86351931e+08, 7.40263204e+08, 4.82211840e+08, 2.54268907e+08,\n",
       "       6.87802037e+08, 3.52747829e+08, 3.13174592e+08, 2.09783133e+08,\n",
       "       4.57182670e+08, 4.82211840e+08, 9.04077398e+08, 2.23899125e+08,\n",
       "       3.52747829e+08, 6.87802037e+08, 5.25859130e+08, 6.87802037e+08,\n",
       "       2.54268907e+08, 2.88009107e+08, 7.40263204e+08, 1.74917123e+08,\n",
       "       2.02243202e+08, 4.83290253e+08, 5.74067621e+08, 4.33836573e+08,\n",
       "       6.04674625e+08, 4.82211840e+08, 2.88009107e+08, 4.82211840e+08,\n",
       "       2.54268907e+08, 5.86351931e+08, 2.09783133e+08, 6.11181290e+08,\n",
       "       2.54268907e+08, 6.87802037e+08, 4.82211840e+08, 3.20506253e+08,\n",
       "       3.13174592e+08, 4.82211840e+08, 7.40263204e+08, 3.13174592e+08,\n",
       "       6.87802037e+08, 2.09783133e+08, 6.87802037e+08, 4.82211840e+08])"
      ]
     },
     "execution_count": 21,
     "metadata": {},
     "output_type": "execute_result"
    }
   ],
   "source": [
    "y_pred = model2.predict(X_test) # test the output by changing values\n",
    "y_pred"
   ]
  },
  {
   "cell_type": "code",
   "execution_count": 22,
   "id": "d510583a",
   "metadata": {
    "colab": {
     "base_uri": "https://localhost:8080/"
    },
    "id": "d510583a",
    "outputId": "c497e961-eeda-45dd-e442-232e2eef1e8b"
   },
   "outputs": [
    {
     "name": "stdout",
     "output_type": "stream",
     "text": [
      "Mean Absolute Error: 233811399.9091069\n",
      "Mean Squared Error: 1.0585974743217629e+17\n",
      "Root Mean Squared Error: 325360949.4579463\n"
     ]
    }
   ],
   "source": [
    "from sklearn import metrics\n",
    "\n",
    "print('Mean Absolute Error:', metrics.mean_absolute_error(y_test, y_pred))\n",
    "print('Mean Squared Error:', metrics.mean_squared_error(y_test, y_pred))\n",
    "print('Root Mean Squared Error:', np.sqrt(metrics.mean_squared_error(y_test, y_pred)))"
   ]
  },
  {
   "cell_type": "code",
   "execution_count": 27,
   "id": "bd807ff9",
   "metadata": {},
   "outputs": [
    {
     "data": {
      "image/png": "[encoded data removed]",
      "text/plain": [
       "<Figure size 432x288 with 1 Axes>"
      ]
     },
     "metadata": {
      "needs_background": "light"
     },
     "output_type": "display_data"
    }
   ],
   "source": [
    "import numpy as np\n",
    "\n",
    "plt.scatter(X_train, y_train, alpha=0.3)\n",
    "plt.xlabel('Production Cost')\n",
    "plt.ylabel('Worldwide Cost')\n",
    "plt.title('Keuntungan Pembuatan Film')\n",
    "plt.plot(X_test, model2.predict(X_test), color='red', linewidth=3)\n",
    "plt.show()"
   ]
  }
 ],
 "metadata": {
  "colab": {
   "provenance": []
  },
  "kernelspec": {
   "display_name": "Python 3 (ipykernel)",
   "language": "python",
   "name": "python3"
  },
  "language_info": {
   "codemirror_mode": {
    "name": "ipython",
    "version": 3
   },
   "file_extension": ".py",
   "mimetype": "text/x-python",
   "name": "python",
   "nbconvert_exporter": "python",
   "pygments_lexer": "ipython3",
   "version": "3.9.4"
  }
 },
 "nbformat": 4,
 "nbformat_minor": 5
}
